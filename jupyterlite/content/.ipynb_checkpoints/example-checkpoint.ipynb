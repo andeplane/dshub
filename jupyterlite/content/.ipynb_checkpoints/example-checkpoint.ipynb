{
 "cells": [
  {
   "cell_type": "code",
   "execution_count": null,
   "id": "dcd1eb5a-515f-4b40-b4f0-f01fb691222a",
   "metadata": {},
   "outputs": [],
   "source": [
    "import micropip\n",
    "import os\n",
    "import json\n",
    "await micropip.install(\"cognite-sdk\")\n",
    "await micropip.install(\"patch-sdk-jupyterlite\")\n",
    "from cognite.jupyterlitepatch import apply_patch, get_credentials\n",
    "apply_patch()"
   ]
  },
  {
   "cell_type": "code",
   "execution_count": null,
   "id": "a072ea75-3ffc-4d32-85a4-69742ea9f05b",
   "metadata": {},
   "outputs": [],
   "source": [
    "from cognite.client import CogniteClient\n",
    "token, project, cluster = await get_credentials()\n",
    "client = CogniteClient(\n",
    "    token=token,\n",
    "    project=project,\n",
    "    base_url=f\"https://{cluster}.cognitedata.com\",\n",
    "    client_name=\"DSHubLite\"\n",
    ")\n",
    "\n",
    "assets = client.assets.list()\n",
    "assets"
   ]
  }
 ],
 "metadata": {
  "kernelspec": {
   "display_name": "Python 3",
   "language": "python",
   "name": "python3"
  },
  "language_info": {
   "codemirror_mode": {
    "name": "ipython",
    "version": 3
   },
   "file_extension": ".py",
   "mimetype": "text/x-python",
   "name": "python",
   "nbconvert_exporter": "python",
   "pygments_lexer": "ipython3",
   "version": "3.9.4"
  }
 },
 "nbformat": 4,
 "nbformat_minor": 5
}
