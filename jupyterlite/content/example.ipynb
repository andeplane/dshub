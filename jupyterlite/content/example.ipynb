{
  "metadata": {
    "orig_nbformat": 4,
    "language_info": {
      "codemirror_mode": {
        "name": "python",
        "version": 3
      },
      "file_extension": ".py",
      "mimetype": "text/x-python",
      "name": "python",
      "nbconvert_exporter": "python",
      "pygments_lexer": "ipython3",
      "version": "3.8"
    },
    "kernelspec": {
      "name": "python",
      "display_name": "Pyolite",
      "language": "python"
    }
  },
  "nbformat_minor": 4,
  "nbformat": 4,
  "cells": [
    {
      "cell_type": "code",
      "source": "import micropip\nimport os\nimport json\nawait micropip.install(\"cognite-sdk\")\nawait micropip.install(\"patch-sdk-jupyterlite\")\nfrom cognite.jupyterlitepatch import apply_patch, get_credentials\napply_patch()",
      "metadata": {},
      "execution_count": null,
      "outputs": []
    },
    {
      "cell_type": "code",
      "source": "from cognite.client import CogniteClient\ntoken, project, cluster = await get_credentials()\nclient = CogniteClient(\n    token=token,\n    project=project,\n    base_url=f\"https://{cluster}.cognitedata.com\",\n    client_name=\"DSHubLite\"\n)",
      "metadata": {},
      "execution_count": null,
      "outputs": []
    },
    {
      "cell_type": "code",
      "source": "assets = client.assets.list()\nassets",
      "metadata": {},
      "execution_count": null,
      "outputs": []
    }
  ]
}